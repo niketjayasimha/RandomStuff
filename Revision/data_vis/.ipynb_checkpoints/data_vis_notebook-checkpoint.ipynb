{
 "cells": [
  {
   "cell_type": "markdown",
   "metadata": {},
   "source": [
    "# Data visualization revision \n",
    "##### Source: http://newcoder.io/dataviz/"
   ]
  },
  {
   "cell_type": "code",
   "execution_count": 1,
   "metadata": {},
   "outputs": [],
   "source": [
    "import geojson\n",
    "import json\n",
    "import numpy as np\n",
    "import matplotlib.pyplot as plt\n",
    "import pandas as pd\n",
    "import seaborn as sns\n",
    "sns.set()"
   ]
  },
  {
   "cell_type": "code",
   "execution_count": 2,
   "metadata": {},
   "outputs": [],
   "source": [
    "FILE_PATH = \"./sample_sfpd_incident_all.csv\""
   ]
  },
  {
   "cell_type": "code",
   "execution_count": 3,
   "metadata": {},
   "outputs": [],
   "source": [
    "sf_crime = pd.read_csv(FILE_PATH)"
   ]
  },
  {
   "cell_type": "code",
   "execution_count": 4,
   "metadata": {},
   "outputs": [
    {
     "data": {
      "text/html": [
       "<div>\n",
       "<style scoped>\n",
       "    .dataframe tbody tr th:only-of-type {\n",
       "        vertical-align: middle;\n",
       "    }\n",
       "\n",
       "    .dataframe tbody tr th {\n",
       "        vertical-align: top;\n",
       "    }\n",
       "\n",
       "    .dataframe thead th {\n",
       "        text-align: right;\n",
       "    }\n",
       "</style>\n",
       "<table border=\"1\" class=\"dataframe\">\n",
       "  <thead>\n",
       "    <tr style=\"text-align: right;\">\n",
       "      <th></th>\n",
       "      <th>IncidntNum</th>\n",
       "      <th>Category</th>\n",
       "      <th>Descript</th>\n",
       "      <th>DayOfWeek</th>\n",
       "      <th>Date</th>\n",
       "      <th>Time</th>\n",
       "      <th>PdDistrict</th>\n",
       "      <th>Resolution</th>\n",
       "      <th>Location</th>\n",
       "      <th>X</th>\n",
       "      <th>Y</th>\n",
       "    </tr>\n",
       "  </thead>\n",
       "  <tbody>\n",
       "    <tr>\n",
       "      <th>0</th>\n",
       "      <td>30203898</td>\n",
       "      <td>FRAUD</td>\n",
       "      <td>FORGERY, CREDIT CARD</td>\n",
       "      <td>Tuesday</td>\n",
       "      <td>02/18/2003</td>\n",
       "      <td>16:30</td>\n",
       "      <td>NORTHERN</td>\n",
       "      <td>NONE</td>\n",
       "      <td>2800 Block of VAN NESS AV</td>\n",
       "      <td>-122.424613</td>\n",
       "      <td>37.801449</td>\n",
       "    </tr>\n",
       "    <tr>\n",
       "      <th>1</th>\n",
       "      <td>38261</td>\n",
       "      <td>WARRANTS</td>\n",
       "      <td>WARRANT ARREST</td>\n",
       "      <td>Thursday</td>\n",
       "      <td>04/17/2003</td>\n",
       "      <td>22:45</td>\n",
       "      <td>NORTHERN</td>\n",
       "      <td>ARREST, BOOKED</td>\n",
       "      <td>POLK ST / SUTTER ST</td>\n",
       "      <td>-122.420120</td>\n",
       "      <td>37.787757</td>\n",
       "    </tr>\n",
       "    <tr>\n",
       "      <th>2</th>\n",
       "      <td>30203901</td>\n",
       "      <td>LARCENY/THEFT</td>\n",
       "      <td>GRAND THEFT PICKPOCKET</td>\n",
       "      <td>Tuesday</td>\n",
       "      <td>02/18/2003</td>\n",
       "      <td>16:05</td>\n",
       "      <td>NORTHERN</td>\n",
       "      <td>NONE</td>\n",
       "      <td>VAN NESS AV / MCALLISTER ST</td>\n",
       "      <td>-122.420250</td>\n",
       "      <td>37.780075</td>\n",
       "    </tr>\n",
       "    <tr>\n",
       "      <th>3</th>\n",
       "      <td>30203923</td>\n",
       "      <td>DRUG/NARCOTIC</td>\n",
       "      <td>SALE OF BASE/ROCK COCAINE</td>\n",
       "      <td>Tuesday</td>\n",
       "      <td>02/18/2003</td>\n",
       "      <td>17:00</td>\n",
       "      <td>BAYVIEW</td>\n",
       "      <td>ARREST, BOOKED</td>\n",
       "      <td>1600 Block of KIRKWOOD AV</td>\n",
       "      <td>-122.390718</td>\n",
       "      <td>37.738556</td>\n",
       "    </tr>\n",
       "    <tr>\n",
       "      <th>4</th>\n",
       "      <td>30203923</td>\n",
       "      <td>OTHER OFFENSES</td>\n",
       "      <td>CONSPIRACY</td>\n",
       "      <td>Tuesday</td>\n",
       "      <td>02/18/2003</td>\n",
       "      <td>17:00</td>\n",
       "      <td>BAYVIEW</td>\n",
       "      <td>ARREST, BOOKED</td>\n",
       "      <td>1600 Block of KIRKWOOD AV</td>\n",
       "      <td>-122.390718</td>\n",
       "      <td>37.738556</td>\n",
       "    </tr>\n",
       "  </tbody>\n",
       "</table>\n",
       "</div>"
      ],
      "text/plain": [
       "   IncidntNum        Category                   Descript DayOfWeek  \\\n",
       "0    30203898           FRAUD       FORGERY, CREDIT CARD   Tuesday   \n",
       "1       38261        WARRANTS             WARRANT ARREST  Thursday   \n",
       "2    30203901   LARCENY/THEFT     GRAND THEFT PICKPOCKET   Tuesday   \n",
       "3    30203923   DRUG/NARCOTIC  SALE OF BASE/ROCK COCAINE   Tuesday   \n",
       "4    30203923  OTHER OFFENSES                 CONSPIRACY   Tuesday   \n",
       "\n",
       "         Date   Time PdDistrict      Resolution                     Location  \\\n",
       "0  02/18/2003  16:30   NORTHERN            NONE    2800 Block of VAN NESS AV   \n",
       "1  04/17/2003  22:45   NORTHERN  ARREST, BOOKED          POLK ST / SUTTER ST   \n",
       "2  02/18/2003  16:05   NORTHERN            NONE  VAN NESS AV / MCALLISTER ST   \n",
       "3  02/18/2003  17:00    BAYVIEW  ARREST, BOOKED    1600 Block of KIRKWOOD AV   \n",
       "4  02/18/2003  17:00    BAYVIEW  ARREST, BOOKED    1600 Block of KIRKWOOD AV   \n",
       "\n",
       "            X          Y  \n",
       "0 -122.424613  37.801449  \n",
       "1 -122.420120  37.787757  \n",
       "2 -122.420250  37.780075  \n",
       "3 -122.390718  37.738556  \n",
       "4 -122.390718  37.738556  "
      ]
     },
     "execution_count": 4,
     "metadata": {},
     "output_type": "execute_result"
    }
   ],
   "source": [
    "sf_crime.head()"
   ]
  },
  {
   "cell_type": "code",
   "execution_count": 5,
   "metadata": {},
   "outputs": [],
   "source": [
    "sf_crime_day_of_week = sf_crime.groupby('DayOfWeek')"
   ]
  },
  {
   "cell_type": "code",
   "execution_count": 6,
   "metadata": {},
   "outputs": [],
   "source": [
    "sorted_days = ['Monday', 'Tuesday', 'Wednesday', 'Thursday', 'Friday', 'Saturday', 'Sunday']"
   ]
  },
  {
   "cell_type": "code",
   "execution_count": 7,
   "metadata": {},
   "outputs": [
    {
     "data": {
      "text/plain": [
       "DayOfWeek\n",
       "Monday       14\n",
       "Tuesday      37\n",
       "Wednesday    20\n",
       "Thursday     12\n",
       "Friday        4\n",
       "Saturday      7\n",
       "Sunday        5\n",
       "dtype: int64"
      ]
     },
     "execution_count": 7,
     "metadata": {},
     "output_type": "execute_result"
    }
   ],
   "source": [
    "crimes_per_day = sf_crime_day_of_week.size().reindex(sorted_days)\n",
    "crimes_per_day"
   ]
  },
  {
   "cell_type": "code",
   "execution_count": 8,
   "metadata": {},
   "outputs": [
    {
     "name": "stdout",
     "output_type": "stream",
     "text": [
      "Populating the interactive namespace from numpy and matplotlib\n"
     ]
    },
    {
     "data": {
      "image/png": "[encoded data removed]",
      "text/plain": [
       "<Figure size 432x288 with 1 Axes>"
      ]
     },
     "metadata": {},
     "output_type": "display_data"
    }
   ],
   "source": [
    "%pylab inline\n",
    "ax = crimes_per_day.plot(kind='bar')"
   ]
  },
  {
   "cell_type": "code",
   "execution_count": 9,
   "metadata": {},
   "outputs": [],
   "source": [
    "sf_crime_num_by_type = sf_crime.groupby('Category').size()"
   ]
  },
  {
   "cell_type": "code",
   "execution_count": 10,
   "metadata": {},
   "outputs": [
    {
     "data": {
      "text/plain": [
       "<matplotlib.axes._subplots.AxesSubplot at 0x7f9789e0ff60>"
      ]
     },
     "execution_count": 10,
     "metadata": {},
     "output_type": "execute_result"
    },
    {
     "data": {
      "image/png": "[encoded data removed]",
      "text/plain": [
       "<Figure size 432x288 with 1 Axes>"
      ]
     },
     "metadata": {},
     "output_type": "display_data"
    }
   ],
   "source": [
    "sf_crime_num_by_type.plot(kind='bar')"
   ]
  },
  {
   "cell_type": "code",
   "execution_count": 11,
   "metadata": {},
   "outputs": [],
   "source": [
    "useful_cols = ['Category', 'Descript', 'Date', 'Location', 'X', 'Y']"
   ]
  },
  {
   "cell_type": "code",
   "execution_count": 12,
   "metadata": {},
   "outputs": [],
   "source": [
    "sf_crime_useful = sf_crime[useful_cols]"
   ]
  },
  {
   "cell_type": "code",
   "execution_count": 13,
   "metadata": {},
   "outputs": [
    {
     "data": {
      "text/html": [
       "<div>\n",
       "<style scoped>\n",
       "    .dataframe tbody tr th:only-of-type {\n",
       "        vertical-align: middle;\n",
       "    }\n",
       "\n",
       "    .dataframe tbody tr th {\n",
       "        vertical-align: top;\n",
       "    }\n",
       "\n",
       "    .dataframe thead th {\n",
       "        text-align: right;\n",
       "    }\n",
       "</style>\n",
       "<table border=\"1\" class=\"dataframe\">\n",
       "  <thead>\n",
       "    <tr style=\"text-align: right;\">\n",
       "      <th></th>\n",
       "      <th>Category</th>\n",
       "      <th>Descript</th>\n",
       "      <th>Date</th>\n",
       "      <th>Location</th>\n",
       "      <th>X</th>\n",
       "      <th>Y</th>\n",
       "    </tr>\n",
       "  </thead>\n",
       "  <tbody>\n",
       "    <tr>\n",
       "      <th>0</th>\n",
       "      <td>FRAUD</td>\n",
       "      <td>FORGERY, CREDIT CARD</td>\n",
       "      <td>02/18/2003</td>\n",
       "      <td>2800 Block of VAN NESS AV</td>\n",
       "      <td>-122.424613</td>\n",
       "      <td>37.801449</td>\n",
       "    </tr>\n",
       "    <tr>\n",
       "      <th>1</th>\n",
       "      <td>WARRANTS</td>\n",
       "      <td>WARRANT ARREST</td>\n",
       "      <td>04/17/2003</td>\n",
       "      <td>POLK ST / SUTTER ST</td>\n",
       "      <td>-122.420120</td>\n",
       "      <td>37.787757</td>\n",
       "    </tr>\n",
       "    <tr>\n",
       "      <th>2</th>\n",
       "      <td>LARCENY/THEFT</td>\n",
       "      <td>GRAND THEFT PICKPOCKET</td>\n",
       "      <td>02/18/2003</td>\n",
       "      <td>VAN NESS AV / MCALLISTER ST</td>\n",
       "      <td>-122.420250</td>\n",
       "      <td>37.780075</td>\n",
       "    </tr>\n",
       "    <tr>\n",
       "      <th>3</th>\n",
       "      <td>DRUG/NARCOTIC</td>\n",
       "      <td>SALE OF BASE/ROCK COCAINE</td>\n",
       "      <td>02/18/2003</td>\n",
       "      <td>1600 Block of KIRKWOOD AV</td>\n",
       "      <td>-122.390718</td>\n",
       "      <td>37.738556</td>\n",
       "    </tr>\n",
       "    <tr>\n",
       "      <th>4</th>\n",
       "      <td>OTHER OFFENSES</td>\n",
       "      <td>CONSPIRACY</td>\n",
       "      <td>02/18/2003</td>\n",
       "      <td>1600 Block of KIRKWOOD AV</td>\n",
       "      <td>-122.390718</td>\n",
       "      <td>37.738556</td>\n",
       "    </tr>\n",
       "  </tbody>\n",
       "</table>\n",
       "</div>"
      ],
      "text/plain": [
       "         Category                   Descript        Date  \\\n",
       "0           FRAUD       FORGERY, CREDIT CARD  02/18/2003   \n",
       "1        WARRANTS             WARRANT ARREST  04/17/2003   \n",
       "2   LARCENY/THEFT     GRAND THEFT PICKPOCKET  02/18/2003   \n",
       "3   DRUG/NARCOTIC  SALE OF BASE/ROCK COCAINE  02/18/2003   \n",
       "4  OTHER OFFENSES                 CONSPIRACY  02/18/2003   \n",
       "\n",
       "                      Location           X          Y  \n",
       "0    2800 Block of VAN NESS AV -122.424613  37.801449  \n",
       "1          POLK ST / SUTTER ST -122.420120  37.787757  \n",
       "2  VAN NESS AV / MCALLISTER ST -122.420250  37.780075  \n",
       "3    1600 Block of KIRKWOOD AV -122.390718  37.738556  \n",
       "4    1600 Block of KIRKWOOD AV -122.390718  37.738556  "
      ]
     },
     "execution_count": 13,
     "metadata": {},
     "output_type": "execute_result"
    }
   ],
   "source": [
    "sf_crime_useful.head()"
   ]
  },
  {
   "cell_type": "code",
   "execution_count": 14,
   "metadata": {},
   "outputs": [
    {
     "data": {
      "text/plain": [
       "(99, 6)"
      ]
     },
     "execution_count": 14,
     "metadata": {},
     "output_type": "execute_result"
    }
   ],
   "source": [
    "sf_crime_useful.shape"
   ]
  },
  {
   "cell_type": "code",
   "execution_count": 15,
   "metadata": {},
   "outputs": [],
   "source": [
    "sf_crime_useful = sf_crime_useful[sf_crime_useful.X != 0]"
   ]
  },
  {
   "cell_type": "code",
   "execution_count": 16,
   "metadata": {},
   "outputs": [
    {
     "data": {
      "text/plain": [
       "(80, 6)"
      ]
     },
     "execution_count": 16,
     "metadata": {},
     "output_type": "execute_result"
    }
   ],
   "source": [
    "sf_crime_useful.shape"
   ]
  },
  {
   "cell_type": "code",
   "execution_count": 17,
   "metadata": {},
   "outputs": [],
   "source": [
    "def df_to_geojson(df, properties, lat='Y', long='X'):\n",
    "    geojson = {'type': 'FeatureCollection', 'features':[]}\n",
    "    \n",
    "    for index, row in df.iterrows():\n",
    "        feature = {\n",
    "            'type':'Feature',\n",
    "            'id':index,\n",
    "            'properties':{},\n",
    "            'geometry':{\n",
    "                'type':'Point',\n",
    "                'coordinates':[]\n",
    "            }\n",
    "        }\n",
    "        \n",
    "        feature['geometry']['coordinates'] = [row[long], row[lat]]\n",
    "        \n",
    "        for prop in properties:\n",
    "            feature['properties'][prop] = row[prop]\n",
    "        \n",
    "        geojson['features'].append(feature)\n",
    "        \n",
    "    return geojson\n",
    "        "
   ]
  },
  {
   "cell_type": "code",
   "execution_count": 18,
   "metadata": {},
   "outputs": [],
   "source": [
    "geojson_properties_list = ['Category', 'Descript', 'Date', 'Location']"
   ]
  },
  {
   "cell_type": "code",
   "execution_count": 19,
   "metadata": {},
   "outputs": [],
   "source": [
    "geojson_dict = df_to_geojson(sf_crime_useful, geojson_properties_list)"
   ]
  },
  {
   "cell_type": "code",
   "execution_count": 20,
   "metadata": {},
   "outputs": [],
   "source": [
    "geojson_str = json.dumps(geojson_dict, indent=2)"
   ]
  },
  {
   "cell_type": "code",
   "execution_count": 21,
   "metadata": {},
   "outputs": [
    {
     "name": "stdout",
     "output_type": "stream",
     "text": [
      "80 geotagged features saved to file\n"
     ]
    }
   ],
   "source": [
    "output_filename_geojson = './dataset.geojson'\n",
    "output_filename_json = './dataset.json'\n",
    "with open(output_filename_geojson, 'w') as output_file:\n",
    "    output_file.write(geojson_str)\n",
    "with open(output_filename_json, 'w') as output_file:\n",
    "    output_file.write(geojson_str)\n",
    "print('{} geotagged features saved to file'.format(len(geojson_dict['features'])))"
   ]
  },
  {
   "cell_type": "code",
   "execution_count": null,
   "metadata": {},
   "outputs": [],
   "source": []
  }
 ],
 "metadata": {
  "kernelspec": {
   "display_name": "Python 3",
   "language": "python",
   "name": "python3"
  },
  "language_info": {
   "codemirror_mode": {
    "name": "ipython",
    "version": 3
   },
   "file_extension": ".py",
   "mimetype": "text/x-python",
   "name": "python",
   "nbconvert_exporter": "python",
   "pygments_lexer": "ipython3",
   "version": "3.6.5"
  }
 },
 "nbformat": 4,
 "nbformat_minor": 2
}
